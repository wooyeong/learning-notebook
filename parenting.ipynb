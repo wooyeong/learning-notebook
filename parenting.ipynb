{
 "cells": [
  {
   "cell_type": "markdown",
   "metadata": {},
   "source": [
    "# parenting\n",
    "\n",
    "요즘 한국에선 육아용품 직구가 유행이라고 한다. 실제로 그럴까?\n",
    "\n",
    "(가설) 만약 그렇다면, 신생아가 많이 태어날 수록 그 분기의 육아용품 직구금액이 높을 것이다.\n",
    "\n",
    "한국통계청에서 제공하는 [국가통계포털](http://kosis.kr/)에서 다음 정보를 찾을 수 있다.\n",
    "* [분기별 신생아 수](http://kosis.kr/statHtml/statHtml.do?orgId=101&tblId=DT_1B8000G&conn_path=I3)\n",
    "* [분기별 육아용품 직구 비용](http://kosis.kr/statHtml/statHtml.do?orgId=101&tblId=DT_1KE1009&conn_path=I3)\n",
    "\n",
    "통계포털의 자료는 엑셀 파일(xlsx)로 제공되는데, pandas는 고맙게도 read_excel() 함수를 통해 엑셀 파일 읽기를 지원한다."
   ]
  },
  {
   "cell_type": "code",
   "execution_count": 1,
   "metadata": {
    "collapsed": true
   },
   "outputs": [],
   "source": [
    "import numpy as np\n",
    "import pandas as pd\n",
    "import matplotlib.pyplot as plt\n",
    "%matplotlib inline\n",
    "\n",
    "birth = pd.read_excel('data/birth.xlsx')\n",
    "imp = pd.read_excel('data/import.xlsx') # 단위: 백만원"
   ]
  },
  {
   "cell_type": "code",
   "execution_count": 2,
   "metadata": {
    "collapsed": false
   },
   "outputs": [
    {
     "data": {
      "text/html": [
       "<div>\n",
       "<table border=\"1\" class=\"dataframe\">\n",
       "  <thead>\n",
       "    <tr style=\"text-align: right;\">\n",
       "      <th></th>\n",
       "      <th>행정구역별</th>\n",
       "      <th>종류별</th>\n",
       "      <th>2013 4/4</th>\n",
       "      <th>2014 1/4</th>\n",
       "      <th>2014 2/4</th>\n",
       "      <th>2014 3/4</th>\n",
       "      <th>2014 4/4</th>\n",
       "      <th>2015 1/4</th>\n",
       "      <th>2015 2/4</th>\n",
       "      <th>2015 3/4</th>\n",
       "      <th>2015 4/4</th>\n",
       "      <th>2016 1/4 p)</th>\n",
       "      <th>2016 2/4 p)</th>\n",
       "      <th>2016 3/4 p)</th>\n",
       "    </tr>\n",
       "  </thead>\n",
       "  <tbody>\n",
       "    <tr>\n",
       "      <th>0</th>\n",
       "      <td>전국</td>\n",
       "      <td>출생</td>\n",
       "      <td>101854</td>\n",
       "      <td>116004</td>\n",
       "      <td>107103</td>\n",
       "      <td>110808</td>\n",
       "      <td>101520</td>\n",
       "      <td>117952</td>\n",
       "      <td>110126</td>\n",
       "      <td>108263</td>\n",
       "      <td>102079</td>\n",
       "      <td>112600</td>\n",
       "      <td>102600</td>\n",
       "      <td>102200</td>\n",
       "    </tr>\n",
       "  </tbody>\n",
       "</table>\n",
       "</div>"
      ],
      "text/plain": [
       "  행정구역별 종류별  2013 4/4  2014 1/4  2014 2/4  2014 3/4  2014 4/4  2015 1/4  \\\n",
       "0    전국  출생    101854    116004    107103    110808    101520    117952   \n",
       "\n",
       "   2015 2/4  2015 3/4  2015 4/4  2016 1/4 p)  2016 2/4 p)  2016 3/4 p)  \n",
       "0    110126    108263    102079       112600       102600       102200  "
      ]
     },
     "execution_count": 2,
     "metadata": {},
     "output_type": "execute_result"
    }
   ],
   "source": [
    "birth"
   ]
  },
  {
   "cell_type": "markdown",
   "metadata": {},
   "source": [
    "위의 데이터를 보면 행정구역별, 종류별이란 열은 필요없는 데이터이고, 마지막 열을 보면 \"p)\"라고 불필요한 데이터가 붙어있다. 이 정보들을 삭제한다."
   ]
  },
  {
   "cell_type": "code",
   "execution_count": 3,
   "metadata": {
    "collapsed": false
   },
   "outputs": [
    {
     "data": {
      "text/html": [
       "<div>\n",
       "<table border=\"1\" class=\"dataframe\">\n",
       "  <thead>\n",
       "    <tr style=\"text-align: right;\">\n",
       "      <th></th>\n",
       "      <th>2013 4/4</th>\n",
       "      <th>2014 1/4</th>\n",
       "      <th>2014 2/4</th>\n",
       "      <th>2014 3/4</th>\n",
       "      <th>2014 4/4</th>\n",
       "      <th>2015 1/4</th>\n",
       "      <th>2015 2/4</th>\n",
       "      <th>2015 3/4</th>\n",
       "      <th>2015 4/4</th>\n",
       "      <th>2016 1/4 p)</th>\n",
       "      <th>2016 2/4 p)</th>\n",
       "      <th>2016 3/4 p)</th>\n",
       "    </tr>\n",
       "  </thead>\n",
       "  <tbody>\n",
       "    <tr>\n",
       "      <th>0</th>\n",
       "      <td>101854</td>\n",
       "      <td>116004</td>\n",
       "      <td>107103</td>\n",
       "      <td>110808</td>\n",
       "      <td>101520</td>\n",
       "      <td>117952</td>\n",
       "      <td>110126</td>\n",
       "      <td>108263</td>\n",
       "      <td>102079</td>\n",
       "      <td>112600</td>\n",
       "      <td>102600</td>\n",
       "      <td>102200</td>\n",
       "    </tr>\n",
       "  </tbody>\n",
       "</table>\n",
       "</div>"
      ],
      "text/plain": [
       "   2013 4/4  2014 1/4  2014 2/4  2014 3/4  2014 4/4  2015 1/4  2015 2/4  \\\n",
       "0    101854    116004    107103    110808    101520    117952    110126   \n",
       "\n",
       "   2015 3/4  2015 4/4  2016 1/4 p)  2016 2/4 p)  2016 3/4 p)  \n",
       "0    108263    102079       112600       102600       102200  "
      ]
     },
     "execution_count": 3,
     "metadata": {},
     "output_type": "execute_result"
    }
   ],
   "source": [
    "birth = birth.drop(birth.columns[:2], axis=1)\n",
    "birth"
   ]
  },
  {
   "cell_type": "code",
   "execution_count": 4,
   "metadata": {
    "collapsed": false
   },
   "outputs": [
    {
     "data": {
      "text/html": [
       "<div>\n",
       "<table border=\"1\" class=\"dataframe\">\n",
       "  <thead>\n",
       "    <tr style=\"text-align: right;\">\n",
       "      <th></th>\n",
       "      <th>2013 4/4</th>\n",
       "      <th>2014 1/4</th>\n",
       "      <th>2014 2/4</th>\n",
       "      <th>2014 3/4</th>\n",
       "      <th>2014 4/4</th>\n",
       "      <th>2015 1/4</th>\n",
       "      <th>2015 2/4</th>\n",
       "      <th>2015 3/4</th>\n",
       "      <th>2015 4/4</th>\n",
       "      <th>2016 1/4</th>\n",
       "      <th>2016 2/4</th>\n",
       "      <th>2016 3/4</th>\n",
       "    </tr>\n",
       "  </thead>\n",
       "  <tbody>\n",
       "    <tr>\n",
       "      <th>0</th>\n",
       "      <td>101854</td>\n",
       "      <td>116004</td>\n",
       "      <td>107103</td>\n",
       "      <td>110808</td>\n",
       "      <td>101520</td>\n",
       "      <td>117952</td>\n",
       "      <td>110126</td>\n",
       "      <td>108263</td>\n",
       "      <td>102079</td>\n",
       "      <td>112600</td>\n",
       "      <td>102600</td>\n",
       "      <td>102200</td>\n",
       "    </tr>\n",
       "  </tbody>\n",
       "</table>\n",
       "</div>"
      ],
      "text/plain": [
       "   2013 4/4  2014 1/4  2014 2/4  2014 3/4  2014 4/4  2015 1/4  2015 2/4  \\\n",
       "0    101854    116004    107103    110808    101520    117952    110126   \n",
       "\n",
       "   2015 3/4  2015 4/4  2016 1/4  2016 2/4  2016 3/4  \n",
       "0    108263    102079    112600    102600    102200  "
      ]
     },
     "execution_count": 4,
     "metadata": {},
     "output_type": "execute_result"
    }
   ],
   "source": [
    "birth.columns = [ col[:8] for col in birth.columns ]\n",
    "birth2 = birth\n",
    "birth2"
   ]
  },
  {
   "cell_type": "markdown",
   "metadata": {},
   "source": [
    "신생아 수에 대한 처리가 끝났으니, 수입금액를 살펴보면,"
   ]
  },
  {
   "cell_type": "code",
   "execution_count": 5,
   "metadata": {
    "collapsed": false
   },
   "outputs": [
    {
     "data": {
      "text/html": [
       "<div>\n",
       "<table border=\"1\" class=\"dataframe\">\n",
       "  <thead>\n",
       "    <tr style=\"text-align: right;\">\n",
       "      <th></th>\n",
       "      <th>국가(대륙)별</th>\n",
       "      <th>상품군별</th>\n",
       "      <th>2014 1/4</th>\n",
       "      <th>2014 2/4</th>\n",
       "      <th>2014 3/4</th>\n",
       "      <th>2014 4/4</th>\n",
       "      <th>2015 1/4</th>\n",
       "      <th>2015 2/4</th>\n",
       "      <th>2015 3/4</th>\n",
       "      <th>2015 4/4</th>\n",
       "      <th>2016 1/4</th>\n",
       "      <th>2016 2/4</th>\n",
       "      <th>2016 3/4</th>\n",
       "      <th>2016 4/4 p)</th>\n",
       "    </tr>\n",
       "  </thead>\n",
       "  <tbody>\n",
       "    <tr>\n",
       "      <th>0</th>\n",
       "      <td>합계</td>\n",
       "      <td>아동·유아용품</td>\n",
       "      <td>13235</td>\n",
       "      <td>11860</td>\n",
       "      <td>12337</td>\n",
       "      <td>16602</td>\n",
       "      <td>16092</td>\n",
       "      <td>15269</td>\n",
       "      <td>13577</td>\n",
       "      <td>16877</td>\n",
       "      <td>16883</td>\n",
       "      <td>14255</td>\n",
       "      <td>15185</td>\n",
       "      <td>17143</td>\n",
       "    </tr>\n",
       "    <tr>\n",
       "      <th>1</th>\n",
       "      <td>미국</td>\n",
       "      <td>아동·유아용품</td>\n",
       "      <td>11015</td>\n",
       "      <td>9378</td>\n",
       "      <td>9580</td>\n",
       "      <td>11891</td>\n",
       "      <td>11425</td>\n",
       "      <td>10135</td>\n",
       "      <td>8762</td>\n",
       "      <td>10723</td>\n",
       "      <td>10567</td>\n",
       "      <td>7103</td>\n",
       "      <td>7098</td>\n",
       "      <td>7426</td>\n",
       "    </tr>\n",
       "    <tr>\n",
       "      <th>2</th>\n",
       "      <td>중국</td>\n",
       "      <td>아동·유아용품</td>\n",
       "      <td>359</td>\n",
       "      <td>649</td>\n",
       "      <td>898</td>\n",
       "      <td>971</td>\n",
       "      <td>950</td>\n",
       "      <td>1408</td>\n",
       "      <td>1620</td>\n",
       "      <td>1968</td>\n",
       "      <td>2220</td>\n",
       "      <td>2834</td>\n",
       "      <td>3879</td>\n",
       "      <td>4556</td>\n",
       "    </tr>\n",
       "    <tr>\n",
       "      <th>3</th>\n",
       "      <td>일본</td>\n",
       "      <td>아동·유아용품</td>\n",
       "      <td>1560</td>\n",
       "      <td>1543</td>\n",
       "      <td>1474</td>\n",
       "      <td>3365</td>\n",
       "      <td>3119</td>\n",
       "      <td>2888</td>\n",
       "      <td>2554</td>\n",
       "      <td>3419</td>\n",
       "      <td>3460</td>\n",
       "      <td>3283</td>\n",
       "      <td>3495</td>\n",
       "      <td>4282</td>\n",
       "    </tr>\n",
       "    <tr>\n",
       "      <th>4</th>\n",
       "      <td>아세안(ASEAN)</td>\n",
       "      <td>아동·유아용품</td>\n",
       "      <td>2</td>\n",
       "      <td>11</td>\n",
       "      <td>8</td>\n",
       "      <td>8</td>\n",
       "      <td>26</td>\n",
       "      <td>50</td>\n",
       "      <td>16</td>\n",
       "      <td>25</td>\n",
       "      <td>19</td>\n",
       "      <td>20</td>\n",
       "      <td>22</td>\n",
       "      <td>39</td>\n",
       "    </tr>\n",
       "    <tr>\n",
       "      <th>5</th>\n",
       "      <td>EU</td>\n",
       "      <td>아동·유아용품</td>\n",
       "      <td>281</td>\n",
       "      <td>266</td>\n",
       "      <td>365</td>\n",
       "      <td>355</td>\n",
       "      <td>529</td>\n",
       "      <td>763</td>\n",
       "      <td>602</td>\n",
       "      <td>708</td>\n",
       "      <td>591</td>\n",
       "      <td>995</td>\n",
       "      <td>656</td>\n",
       "      <td>803</td>\n",
       "    </tr>\n",
       "    <tr>\n",
       "      <th>6</th>\n",
       "      <td>중동</td>\n",
       "      <td>아동·유아용품</td>\n",
       "      <td>0</td>\n",
       "      <td>0</td>\n",
       "      <td>0</td>\n",
       "      <td>-</td>\n",
       "      <td>1</td>\n",
       "      <td>0</td>\n",
       "      <td>3</td>\n",
       "      <td>3</td>\n",
       "      <td>1</td>\n",
       "      <td>0</td>\n",
       "      <td>1</td>\n",
       "      <td>0</td>\n",
       "    </tr>\n",
       "    <tr>\n",
       "      <th>7</th>\n",
       "      <td>중남미</td>\n",
       "      <td>아동·유아용품</td>\n",
       "      <td>-</td>\n",
       "      <td>0</td>\n",
       "      <td>0</td>\n",
       "      <td>-</td>\n",
       "      <td>0</td>\n",
       "      <td>0</td>\n",
       "      <td>-</td>\n",
       "      <td>0</td>\n",
       "      <td>2</td>\n",
       "      <td>2</td>\n",
       "      <td>1</td>\n",
       "      <td>3</td>\n",
       "    </tr>\n",
       "    <tr>\n",
       "      <th>8</th>\n",
       "      <td>대양주</td>\n",
       "      <td>아동·유아용품</td>\n",
       "      <td>6</td>\n",
       "      <td>7</td>\n",
       "      <td>7</td>\n",
       "      <td>5</td>\n",
       "      <td>17</td>\n",
       "      <td>10</td>\n",
       "      <td>14</td>\n",
       "      <td>20</td>\n",
       "      <td>16</td>\n",
       "      <td>14</td>\n",
       "      <td>12</td>\n",
       "      <td>16</td>\n",
       "    </tr>\n",
       "    <tr>\n",
       "      <th>9</th>\n",
       "      <td>기타</td>\n",
       "      <td>아동·유아용품</td>\n",
       "      <td>12</td>\n",
       "      <td>6</td>\n",
       "      <td>8</td>\n",
       "      <td>6</td>\n",
       "      <td>26</td>\n",
       "      <td>15</td>\n",
       "      <td>4</td>\n",
       "      <td>9</td>\n",
       "      <td>7</td>\n",
       "      <td>4</td>\n",
       "      <td>19</td>\n",
       "      <td>18</td>\n",
       "    </tr>\n",
       "  </tbody>\n",
       "</table>\n",
       "</div>"
      ],
      "text/plain": [
       "      국가(대륙)별     상품군별 2014 1/4  2014 2/4  2014 3/4 2014 4/4  2015 1/4  \\\n",
       "0          합계  아동·유아용품    13235     11860     12337    16602     16092   \n",
       "1          미국  아동·유아용품    11015      9378      9580    11891     11425   \n",
       "2          중국  아동·유아용품      359       649       898      971       950   \n",
       "3          일본  아동·유아용품     1560      1543      1474     3365      3119   \n",
       "4  아세안(ASEAN)  아동·유아용품        2        11         8        8        26   \n",
       "5          EU  아동·유아용품      281       266       365      355       529   \n",
       "6          중동  아동·유아용품        0         0         0        -         1   \n",
       "7         중남미  아동·유아용품        -         0         0        -         0   \n",
       "8         대양주  아동·유아용품        6         7         7        5        17   \n",
       "9          기타  아동·유아용품       12         6         8        6        26   \n",
       "\n",
       "   2015 2/4 2015 3/4  2015 4/4  2016 1/4  2016 2/4  2016 3/4  2016 4/4 p)  \n",
       "0     15269    13577     16877     16883     14255     15185        17143  \n",
       "1     10135     8762     10723     10567      7103      7098         7426  \n",
       "2      1408     1620      1968      2220      2834      3879         4556  \n",
       "3      2888     2554      3419      3460      3283      3495         4282  \n",
       "4        50       16        25        19        20        22           39  \n",
       "5       763      602       708       591       995       656          803  \n",
       "6         0        3         3         1         0         1            0  \n",
       "7         0        -         0         2         2         1            3  \n",
       "8        10       14        20        16        14        12           16  \n",
       "9        15        4         9         7         4        19           18  "
      ]
     },
     "execution_count": 5,
     "metadata": {},
     "output_type": "execute_result"
    }
   ],
   "source": [
    "imp"
   ]
  },
  {
   "cell_type": "markdown",
   "metadata": {},
   "source": [
    "어느 지역에 물건을 많이 샀는지는 현재 관심사가 아니다. 잘라버리자. 그리고 마찬가지로 불필요한 열을 지우고 p) 문자도 지우면,"
   ]
  },
  {
   "cell_type": "code",
   "execution_count": 6,
   "metadata": {
    "collapsed": false
   },
   "outputs": [
    {
     "data": {
      "text/plain": [
       "2014 1/4    13235\n",
       "2014 2/4    11860\n",
       "2014 3/4    12337\n",
       "2014 4/4    16602\n",
       "2015 1/4    16092\n",
       "2015 2/4    15269\n",
       "2015 3/4    13577\n",
       "2015 4/4    16877\n",
       "2016 1/4    16883\n",
       "2016 2/4    14255\n",
       "2016 3/4    15185\n",
       "2016 4/4    17143\n",
       "Name: 0, dtype: object"
      ]
     },
     "execution_count": 6,
     "metadata": {},
     "output_type": "execute_result"
    }
   ],
   "source": [
    "imp = imp.drop(imp.columns[:2], axis=1)\n",
    "imp.columns = [ s[:8] for s in imp.columns ]\n",
    "imp2 = imp.loc[0]\n",
    "imp2"
   ]
  },
  {
   "cell_type": "markdown",
   "metadata": {},
   "source": [
    "Serial 객체가 나온다. 이를 다시 DataFrame으로 변경하면, (인자로 열 이름을 넘길 수 있다)"
   ]
  },
  {
   "cell_type": "code",
   "execution_count": 7,
   "metadata": {
    "collapsed": false
   },
   "outputs": [
    {
     "data": {
      "text/html": [
       "<div>\n",
       "<table border=\"1\" class=\"dataframe\">\n",
       "  <thead>\n",
       "    <tr style=\"text-align: right;\">\n",
       "      <th></th>\n",
       "      <th>imported_value</th>\n",
       "    </tr>\n",
       "  </thead>\n",
       "  <tbody>\n",
       "    <tr>\n",
       "      <th>2014 1/4</th>\n",
       "      <td>13235</td>\n",
       "    </tr>\n",
       "    <tr>\n",
       "      <th>2014 2/4</th>\n",
       "      <td>11860</td>\n",
       "    </tr>\n",
       "    <tr>\n",
       "      <th>2014 3/4</th>\n",
       "      <td>12337</td>\n",
       "    </tr>\n",
       "    <tr>\n",
       "      <th>2014 4/4</th>\n",
       "      <td>16602</td>\n",
       "    </tr>\n",
       "    <tr>\n",
       "      <th>2015 1/4</th>\n",
       "      <td>16092</td>\n",
       "    </tr>\n",
       "    <tr>\n",
       "      <th>2015 2/4</th>\n",
       "      <td>15269</td>\n",
       "    </tr>\n",
       "    <tr>\n",
       "      <th>2015 3/4</th>\n",
       "      <td>13577</td>\n",
       "    </tr>\n",
       "    <tr>\n",
       "      <th>2015 4/4</th>\n",
       "      <td>16877</td>\n",
       "    </tr>\n",
       "    <tr>\n",
       "      <th>2016 1/4</th>\n",
       "      <td>16883</td>\n",
       "    </tr>\n",
       "    <tr>\n",
       "      <th>2016 2/4</th>\n",
       "      <td>14255</td>\n",
       "    </tr>\n",
       "    <tr>\n",
       "      <th>2016 3/4</th>\n",
       "      <td>15185</td>\n",
       "    </tr>\n",
       "    <tr>\n",
       "      <th>2016 4/4</th>\n",
       "      <td>17143</td>\n",
       "    </tr>\n",
       "  </tbody>\n",
       "</table>\n",
       "</div>"
      ],
      "text/plain": [
       "         imported_value\n",
       "2014 1/4          13235\n",
       "2014 2/4          11860\n",
       "2014 3/4          12337\n",
       "2014 4/4          16602\n",
       "2015 1/4          16092\n",
       "2015 2/4          15269\n",
       "2015 3/4          13577\n",
       "2015 4/4          16877\n",
       "2016 1/4          16883\n",
       "2016 2/4          14255\n",
       "2016 3/4          15185\n",
       "2016 4/4          17143"
      ]
     },
     "execution_count": 7,
     "metadata": {},
     "output_type": "execute_result"
    }
   ],
   "source": [
    "imp2 = imp2.to_frame('imported_value')\n",
    "imp2"
   ]
  },
  {
   "cell_type": "markdown",
   "metadata": {},
   "source": [
    "분기가 같은 두 개의 데이터가 있다. 분기를 기준으로 합치면 다음과 같다. birth2의 경우, 방향을 뒤집고 열 이름도 지정해야 한다."
   ]
  },
  {
   "cell_type": "code",
   "execution_count": 8,
   "metadata": {
    "collapsed": false
   },
   "outputs": [
    {
     "data": {
      "text/html": [
       "<div>\n",
       "<table border=\"1\" class=\"dataframe\">\n",
       "  <thead>\n",
       "    <tr style=\"text-align: right;\">\n",
       "      <th></th>\n",
       "      <th>birth</th>\n",
       "      <th>imported_value</th>\n",
       "    </tr>\n",
       "  </thead>\n",
       "  <tbody>\n",
       "    <tr>\n",
       "      <th>2013 4/4</th>\n",
       "      <td>101854.0</td>\n",
       "      <td>NaN</td>\n",
       "    </tr>\n",
       "    <tr>\n",
       "      <th>2014 1/4</th>\n",
       "      <td>116004.0</td>\n",
       "      <td>13235</td>\n",
       "    </tr>\n",
       "    <tr>\n",
       "      <th>2014 2/4</th>\n",
       "      <td>107103.0</td>\n",
       "      <td>11860</td>\n",
       "    </tr>\n",
       "    <tr>\n",
       "      <th>2014 3/4</th>\n",
       "      <td>110808.0</td>\n",
       "      <td>12337</td>\n",
       "    </tr>\n",
       "    <tr>\n",
       "      <th>2014 4/4</th>\n",
       "      <td>101520.0</td>\n",
       "      <td>16602</td>\n",
       "    </tr>\n",
       "    <tr>\n",
       "      <th>2015 1/4</th>\n",
       "      <td>117952.0</td>\n",
       "      <td>16092</td>\n",
       "    </tr>\n",
       "    <tr>\n",
       "      <th>2015 2/4</th>\n",
       "      <td>110126.0</td>\n",
       "      <td>15269</td>\n",
       "    </tr>\n",
       "    <tr>\n",
       "      <th>2015 3/4</th>\n",
       "      <td>108263.0</td>\n",
       "      <td>13577</td>\n",
       "    </tr>\n",
       "    <tr>\n",
       "      <th>2015 4/4</th>\n",
       "      <td>102079.0</td>\n",
       "      <td>16877</td>\n",
       "    </tr>\n",
       "    <tr>\n",
       "      <th>2016 1/4</th>\n",
       "      <td>112600.0</td>\n",
       "      <td>16883</td>\n",
       "    </tr>\n",
       "    <tr>\n",
       "      <th>2016 2/4</th>\n",
       "      <td>102600.0</td>\n",
       "      <td>14255</td>\n",
       "    </tr>\n",
       "    <tr>\n",
       "      <th>2016 3/4</th>\n",
       "      <td>102200.0</td>\n",
       "      <td>15185</td>\n",
       "    </tr>\n",
       "    <tr>\n",
       "      <th>2016 4/4</th>\n",
       "      <td>NaN</td>\n",
       "      <td>17143</td>\n",
       "    </tr>\n",
       "  </tbody>\n",
       "</table>\n",
       "</div>"
      ],
      "text/plain": [
       "             birth imported_value\n",
       "2013 4/4  101854.0            NaN\n",
       "2014 1/4  116004.0          13235\n",
       "2014 2/4  107103.0          11860\n",
       "2014 3/4  110808.0          12337\n",
       "2014 4/4  101520.0          16602\n",
       "2015 1/4  117952.0          16092\n",
       "2015 2/4  110126.0          15269\n",
       "2015 3/4  108263.0          13577\n",
       "2015 4/4  102079.0          16877\n",
       "2016 1/4  112600.0          16883\n",
       "2016 2/4  102600.0          14255\n",
       "2016 3/4  102200.0          15185\n",
       "2016 4/4       NaN          17143"
      ]
     },
     "execution_count": 8,
     "metadata": {},
     "output_type": "execute_result"
    }
   ],
   "source": [
    "merge = pd.merge(birth2.T.rename(columns={0:'birth'}), imp2, left_index=True, right_index=True, how='outer')\n",
    "merge"
   ]
  },
  {
   "cell_type": "markdown",
   "metadata": {},
   "source": [
    "2013년 4분기의 경우, 직구 금액에 대한 정보가 없고, 2016년 4분기의 경우 신생아 수에 대한 정보가 없다.\n",
    "\n",
    "2013년의 자료는 삭제하고, 2016년 4분기의 신생아 수는 3분기 신생아 수와 같다고 가정해본다."
   ]
  },
  {
   "cell_type": "code",
   "execution_count": 9,
   "metadata": {
    "collapsed": false
   },
   "outputs": [
    {
     "data": {
      "text/html": [
       "<div>\n",
       "<table border=\"1\" class=\"dataframe\">\n",
       "  <thead>\n",
       "    <tr style=\"text-align: right;\">\n",
       "      <th></th>\n",
       "      <th>birth</th>\n",
       "      <th>imported_value</th>\n",
       "    </tr>\n",
       "  </thead>\n",
       "  <tbody>\n",
       "    <tr>\n",
       "      <th>2013 4/4</th>\n",
       "      <td>101854.0</td>\n",
       "      <td>NaN</td>\n",
       "    </tr>\n",
       "    <tr>\n",
       "      <th>2014 1/4</th>\n",
       "      <td>116004.0</td>\n",
       "      <td>13235.0</td>\n",
       "    </tr>\n",
       "    <tr>\n",
       "      <th>2014 2/4</th>\n",
       "      <td>107103.0</td>\n",
       "      <td>11860.0</td>\n",
       "    </tr>\n",
       "    <tr>\n",
       "      <th>2014 3/4</th>\n",
       "      <td>110808.0</td>\n",
       "      <td>12337.0</td>\n",
       "    </tr>\n",
       "    <tr>\n",
       "      <th>2014 4/4</th>\n",
       "      <td>101520.0</td>\n",
       "      <td>16602.0</td>\n",
       "    </tr>\n",
       "    <tr>\n",
       "      <th>2015 1/4</th>\n",
       "      <td>117952.0</td>\n",
       "      <td>16092.0</td>\n",
       "    </tr>\n",
       "    <tr>\n",
       "      <th>2015 2/4</th>\n",
       "      <td>110126.0</td>\n",
       "      <td>15269.0</td>\n",
       "    </tr>\n",
       "    <tr>\n",
       "      <th>2015 3/4</th>\n",
       "      <td>108263.0</td>\n",
       "      <td>13577.0</td>\n",
       "    </tr>\n",
       "    <tr>\n",
       "      <th>2015 4/4</th>\n",
       "      <td>102079.0</td>\n",
       "      <td>16877.0</td>\n",
       "    </tr>\n",
       "    <tr>\n",
       "      <th>2016 1/4</th>\n",
       "      <td>112600.0</td>\n",
       "      <td>16883.0</td>\n",
       "    </tr>\n",
       "    <tr>\n",
       "      <th>2016 2/4</th>\n",
       "      <td>102600.0</td>\n",
       "      <td>14255.0</td>\n",
       "    </tr>\n",
       "    <tr>\n",
       "      <th>2016 3/4</th>\n",
       "      <td>102200.0</td>\n",
       "      <td>15185.0</td>\n",
       "    </tr>\n",
       "    <tr>\n",
       "      <th>2016 4/4</th>\n",
       "      <td>102200.0</td>\n",
       "      <td>17143.0</td>\n",
       "    </tr>\n",
       "  </tbody>\n",
       "</table>\n",
       "</div>"
      ],
      "text/plain": [
       "             birth  imported_value\n",
       "2013 4/4  101854.0             NaN\n",
       "2014 1/4  116004.0         13235.0\n",
       "2014 2/4  107103.0         11860.0\n",
       "2014 3/4  110808.0         12337.0\n",
       "2014 4/4  101520.0         16602.0\n",
       "2015 1/4  117952.0         16092.0\n",
       "2015 2/4  110126.0         15269.0\n",
       "2015 3/4  108263.0         13577.0\n",
       "2015 4/4  102079.0         16877.0\n",
       "2016 1/4  112600.0         16883.0\n",
       "2016 2/4  102600.0         14255.0\n",
       "2016 3/4  102200.0         15185.0\n",
       "2016 4/4  102200.0         17143.0"
      ]
     },
     "execution_count": 9,
     "metadata": {},
     "output_type": "execute_result"
    }
   ],
   "source": [
    "merge = merge.fillna(method='ffill')\n",
    "merge # 2016년도 4분기 자료 생성"
   ]
  },
  {
   "cell_type": "code",
   "execution_count": 10,
   "metadata": {
    "collapsed": false
   },
   "outputs": [
    {
     "data": {
      "text/html": [
       "<div>\n",
       "<table border=\"1\" class=\"dataframe\">\n",
       "  <thead>\n",
       "    <tr style=\"text-align: right;\">\n",
       "      <th></th>\n",
       "      <th>birth</th>\n",
       "      <th>imported_value</th>\n",
       "    </tr>\n",
       "  </thead>\n",
       "  <tbody>\n",
       "    <tr>\n",
       "      <th>2014 1/4</th>\n",
       "      <td>116004.0</td>\n",
       "      <td>13235.0</td>\n",
       "    </tr>\n",
       "    <tr>\n",
       "      <th>2014 2/4</th>\n",
       "      <td>107103.0</td>\n",
       "      <td>11860.0</td>\n",
       "    </tr>\n",
       "    <tr>\n",
       "      <th>2014 3/4</th>\n",
       "      <td>110808.0</td>\n",
       "      <td>12337.0</td>\n",
       "    </tr>\n",
       "    <tr>\n",
       "      <th>2014 4/4</th>\n",
       "      <td>101520.0</td>\n",
       "      <td>16602.0</td>\n",
       "    </tr>\n",
       "    <tr>\n",
       "      <th>2015 1/4</th>\n",
       "      <td>117952.0</td>\n",
       "      <td>16092.0</td>\n",
       "    </tr>\n",
       "    <tr>\n",
       "      <th>2015 2/4</th>\n",
       "      <td>110126.0</td>\n",
       "      <td>15269.0</td>\n",
       "    </tr>\n",
       "    <tr>\n",
       "      <th>2015 3/4</th>\n",
       "      <td>108263.0</td>\n",
       "      <td>13577.0</td>\n",
       "    </tr>\n",
       "    <tr>\n",
       "      <th>2015 4/4</th>\n",
       "      <td>102079.0</td>\n",
       "      <td>16877.0</td>\n",
       "    </tr>\n",
       "    <tr>\n",
       "      <th>2016 1/4</th>\n",
       "      <td>112600.0</td>\n",
       "      <td>16883.0</td>\n",
       "    </tr>\n",
       "    <tr>\n",
       "      <th>2016 2/4</th>\n",
       "      <td>102600.0</td>\n",
       "      <td>14255.0</td>\n",
       "    </tr>\n",
       "    <tr>\n",
       "      <th>2016 3/4</th>\n",
       "      <td>102200.0</td>\n",
       "      <td>15185.0</td>\n",
       "    </tr>\n",
       "    <tr>\n",
       "      <th>2016 4/4</th>\n",
       "      <td>102200.0</td>\n",
       "      <td>17143.0</td>\n",
       "    </tr>\n",
       "  </tbody>\n",
       "</table>\n",
       "</div>"
      ],
      "text/plain": [
       "             birth  imported_value\n",
       "2014 1/4  116004.0         13235.0\n",
       "2014 2/4  107103.0         11860.0\n",
       "2014 3/4  110808.0         12337.0\n",
       "2014 4/4  101520.0         16602.0\n",
       "2015 1/4  117952.0         16092.0\n",
       "2015 2/4  110126.0         15269.0\n",
       "2015 3/4  108263.0         13577.0\n",
       "2015 4/4  102079.0         16877.0\n",
       "2016 1/4  112600.0         16883.0\n",
       "2016 2/4  102600.0         14255.0\n",
       "2016 3/4  102200.0         15185.0\n",
       "2016 4/4  102200.0         17143.0"
      ]
     },
     "execution_count": 10,
     "metadata": {},
     "output_type": "execute_result"
    }
   ],
   "source": [
    "merge = merge.dropna()\n",
    "merge # 자료가 없는 데이터 삭제"
   ]
  },
  {
   "cell_type": "markdown",
   "metadata": {},
   "source": [
    "그림을 그려보면,"
   ]
  },
  {
   "cell_type": "code",
   "execution_count": 12,
   "metadata": {
    "collapsed": false
   },
   "outputs": [
    {
     "data": {
      "text/plain": [
       "<matplotlib.axes._subplots.AxesSubplot at 0x1196a5748>"
      ]
     },
     "execution_count": 12,
     "metadata": {},
     "output_type": "execute_result"
    },
    {
     "data": {
      "image/png": "[encoded data removed]",
      "text/plain": [
       "<matplotlib.figure.Figure at 0x1196a59e8>"
      ]
     },
     "metadata": {},
     "output_type": "display_data"
    }
   ],
   "source": [
    "merge.plot.scatter('birth', 'imported_value', xlim=[100000, 120000], ylim=[0,20000])"
   ]
  },
  {
   "cell_type": "markdown",
   "metadata": {},
   "source": [
    "## 의의\n",
    "\n",
    "현재 있는 자료를 보면 처음에 세운 가설이 맞지 않는 것 같다. T_T\n",
    "\n",
    "pandas를 이용하면 엑셀 파일도 읽을 수 있다."
   ]
  },
  {
   "cell_type": "code",
   "execution_count": null,
   "metadata": {
    "collapsed": true
   },
   "outputs": [],
   "source": []
  }
 ],
 "metadata": {
  "kernelspec": {
   "display_name": "Python 3",
   "language": "python",
   "name": "python3"
  },
  "language_info": {
   "codemirror_mode": {
    "name": "ipython",
    "version": 3
   },
   "file_extension": ".py",
   "mimetype": "text/x-python",
   "name": "python",
   "nbconvert_exporter": "python",
   "pygments_lexer": "ipython3",
   "version": "3.6.0"
  }
 },
 "nbformat": 4,
 "nbformat_minor": 2
}
